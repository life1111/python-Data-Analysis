{
 "cells": [
  {
   "cell_type": "markdown",
   "metadata": {},
   "source": [
    "# 项目：整理Netflix电影演员评分数据"
   ]
  },
  {
   "cell_type": "markdown",
   "metadata": {},
   "source": [
    "## 分析目标"
   ]
  },
  {
   "cell_type": "markdown",
   "metadata": {},
   "source": [
    "此数据分析的目的是，整理不同流派影视作品，比如喜剧片、动作片、科幻片中，各演员出演作品的平均IMDB评分，从而挖掘出各个流派中的高评分作品演员。\n",
    "\n",
    "本实战项目的目的在于练习整理数据，从而得到可供下一步分析的数据。"
   ]
  },
  {
   "cell_type": "markdown",
   "metadata": {},
   "source": [
    "## 简介"
   ]
  },
  {
   "cell_type": "markdown",
   "metadata": {},
   "source": [
    "原始数据集记录了截止至2022年7月美国地区可观看的所有Netflix电视剧及电影数据。数据集包含两个数据表：`titles.csv`和`credits.csv`。\n",
    "\n",
    "`titles.csv`包含电影及电视剧相关信息，包括影视作品ID、标题、类型、描述、流派、IMDB（一个国外的在线评分网站）评分，等等。`credits.csv`包含超过7万名出现在Netflix影视作品的导演及演员信息，包括名字、影视作品ID、人物名、演职员类型（导演/演员）等。"
   ]
  },
  {
   "cell_type": "markdown",
   "metadata": {},
   "source": [
    "`titles.csv`每列的含义如下：\n",
    "- id：影视作品ID。\n",
    "- title：影视作品标题。\n",
    "- show_type：作品类型，电视节目或电影。\n",
    "- description：简短描述。\n",
    "- release_year：发布年份。\n",
    "- age_certification：适龄认证。\n",
    "- runtime：每集电视剧或电影的长度。\n",
    "- genres：流派类型列表。\n",
    "- production_countries：出品国家列表。\n",
    "- seasons：如果是电视剧，则是季数。\n",
    "- imdb_id：IMDB的ID。\n",
    "- imdb_score：IMDB的评分。\n",
    "- imdb_votes：IMDB的投票数。\n",
    "- tmdb_popularity：TMDB的流行度。\n",
    "- tmdb_score：TMDB的评分。\n",
    "\n",
    "`credits.csv`每列的含义如下：\n",
    "- person_ID：演职员ID。\n",
    "- id：参与的影视作品ID。\n",
    "- name：姓名。\n",
    "- character_name：角色姓名。\n",
    "- role：演职员类型，演员或导演。"
   ]
  },
  {
   "cell_type": "code",
   "execution_count": 1,
   "metadata": {},
   "outputs": [],
   "source": [
    "import pandas as pd\n",
    "import numpy as np"
   ]
  },
  {
   "cell_type": "code",
   "execution_count": 2,
   "metadata": {},
   "outputs": [],
   "source": [
    "df1=pd.read_csv(\"E:\\\\A_数据分析资料\\\\credits.csv\")"
   ]
  },
  {
   "cell_type": "code",
   "execution_count": 3,
   "metadata": {},
   "outputs": [],
   "source": [
    "df2=pd.read_csv(\"E:\\\\A_数据分析资料\\\\titles.csv\")"
   ]
  },
  {
   "cell_type": "code",
   "execution_count": 4,
   "metadata": {},
   "outputs": [
    {
     "name": "stdout",
     "output_type": "stream",
     "text": [
      "<class 'pandas.core.frame.DataFrame'>\n",
      "RangeIndex: 77801 entries, 0 to 77800\n",
      "Data columns (total 5 columns):\n",
      " #   Column     Non-Null Count  Dtype \n",
      "---  ------     --------------  ----- \n",
      " 0   person_id  77801 non-null  int64 \n",
      " 1   id         77801 non-null  object\n",
      " 2   name       77801 non-null  object\n",
      " 3   character  68029 non-null  object\n",
      " 4   role       77801 non-null  object\n",
      "dtypes: int64(1), object(4)\n",
      "memory usage: 3.0+ MB\n"
     ]
    }
   ],
   "source": [
    "df1.info()"
   ]
  },
  {
   "cell_type": "code",
   "execution_count": 5,
   "metadata": {},
   "outputs": [
    {
     "name": "stdout",
     "output_type": "stream",
     "text": [
      "<class 'pandas.core.frame.DataFrame'>\n",
      "RangeIndex: 5850 entries, 0 to 5849\n",
      "Data columns (total 15 columns):\n",
      " #   Column                Non-Null Count  Dtype  \n",
      "---  ------                --------------  -----  \n",
      " 0   id                    5850 non-null   object \n",
      " 1   title                 5849 non-null   object \n",
      " 2   type                  5850 non-null   object \n",
      " 3   description           5832 non-null   object \n",
      " 4   release_year          5850 non-null   int64  \n",
      " 5   age_certification     3231 non-null   object \n",
      " 6   runtime               5850 non-null   int64  \n",
      " 7   genres                5850 non-null   object \n",
      " 8   production_countries  5850 non-null   object \n",
      " 9   seasons               2106 non-null   float64\n",
      " 10  imdb_id               5447 non-null   object \n",
      " 11  imdb_score            5368 non-null   float64\n",
      " 12  imdb_votes            5352 non-null   float64\n",
      " 13  tmdb_popularity       5759 non-null   float64\n",
      " 14  tmdb_score            5539 non-null   float64\n",
      "dtypes: float64(5), int64(2), object(8)\n",
      "memory usage: 685.7+ KB\n"
     ]
    }
   ],
   "source": [
    "df2.info()"
   ]
  },
  {
   "cell_type": "markdown",
   "metadata": {},
   "source": [
    "分析目的：整理不同流派影视作品，各演员出演作品的平均IMDB评分，从而挖掘出各个流派中的高评分作品演员\n",
    "分析的列\n",
    "genres：流派类型列表、role：演职员类型，演员或导演、imdb_score：IMDB的评分\n",
    "键\n",
    "id：影视作品ID、person_ID：演职员ID"
   ]
  },
  {
   "cell_type": "markdown",
   "metadata": {},
   "source": [
    "清理credits.csv演员、演员id缺失的列,charcter演出角色姓名缺失不影响挖掘高评分作品的演员"
   ]
  },
  {
   "cell_type": "markdown",
   "metadata": {},
   "source": [
    "1、评估数据"
   ]
  },
  {
   "cell_type": "code",
   "execution_count": 6,
   "metadata": {
    "scrolled": true
   },
   "outputs": [
    {
     "data": {
      "text/html": [
       "<div>\n",
       "<style scoped>\n",
       "    .dataframe tbody tr th:only-of-type {\n",
       "        vertical-align: middle;\n",
       "    }\n",
       "\n",
       "    .dataframe tbody tr th {\n",
       "        vertical-align: top;\n",
       "    }\n",
       "\n",
       "    .dataframe thead th {\n",
       "        text-align: right;\n",
       "    }\n",
       "</style>\n",
       "<table border=\"1\" class=\"dataframe\">\n",
       "  <thead>\n",
       "    <tr style=\"text-align: right;\">\n",
       "      <th></th>\n",
       "      <th>person_id</th>\n",
       "      <th>id</th>\n",
       "      <th>name</th>\n",
       "      <th>character</th>\n",
       "      <th>role</th>\n",
       "    </tr>\n",
       "  </thead>\n",
       "  <tbody>\n",
       "    <tr>\n",
       "      <th>27318</th>\n",
       "      <td>204824</td>\n",
       "      <td>tm232855</td>\n",
       "      <td>Nonie Buencamino</td>\n",
       "      <td>JJ</td>\n",
       "      <td>ACTOR</td>\n",
       "    </tr>\n",
       "    <tr>\n",
       "      <th>57742</th>\n",
       "      <td>86306</td>\n",
       "      <td>tm946360</td>\n",
       "      <td>Maria Broom</td>\n",
       "      <td>Regina Maxwell</td>\n",
       "      <td>ACTOR</td>\n",
       "    </tr>\n",
       "    <tr>\n",
       "      <th>3910</th>\n",
       "      <td>103836</td>\n",
       "      <td>tm55100</td>\n",
       "      <td>Aditya Srivastava</td>\n",
       "      <td>Terrorist</td>\n",
       "      <td>ACTOR</td>\n",
       "    </tr>\n",
       "    <tr>\n",
       "      <th>61645</th>\n",
       "      <td>133429</td>\n",
       "      <td>ts89182</td>\n",
       "      <td>Enno Cheng</td>\n",
       "      <td>Liu Zao Yun</td>\n",
       "      <td>ACTOR</td>\n",
       "    </tr>\n",
       "    <tr>\n",
       "      <th>35037</th>\n",
       "      <td>263922</td>\n",
       "      <td>ts81526</td>\n",
       "      <td>François Hollande</td>\n",
       "      <td>Himself</td>\n",
       "      <td>ACTOR</td>\n",
       "    </tr>\n",
       "    <tr>\n",
       "      <th>67310</th>\n",
       "      <td>1249548</td>\n",
       "      <td>tm1094217</td>\n",
       "      <td>Jordan Tartakow</td>\n",
       "      <td>Chickenhare (voice)</td>\n",
       "      <td>ACTOR</td>\n",
       "    </tr>\n",
       "    <tr>\n",
       "      <th>21248</th>\n",
       "      <td>66333</td>\n",
       "      <td>ts38090</td>\n",
       "      <td>Evan Williams</td>\n",
       "      <td>The Knight of Lorraine</td>\n",
       "      <td>ACTOR</td>\n",
       "    </tr>\n",
       "    <tr>\n",
       "      <th>49504</th>\n",
       "      <td>194743</td>\n",
       "      <td>tm446609</td>\n",
       "      <td>Steve Bannon</td>\n",
       "      <td>Self - Former Chief Executive Trump Campaign (...</td>\n",
       "      <td>ACTOR</td>\n",
       "    </tr>\n",
       "    <tr>\n",
       "      <th>42577</th>\n",
       "      <td>298189</td>\n",
       "      <td>ts82887</td>\n",
       "      <td>Mai Shiraishi</td>\n",
       "      <td>Tsuki Ayako</td>\n",
       "      <td>ACTOR</td>\n",
       "    </tr>\n",
       "    <tr>\n",
       "      <th>54139</th>\n",
       "      <td>1184679</td>\n",
       "      <td>tm483997</td>\n",
       "      <td>Motsi Tekateka</td>\n",
       "      <td>DDM Official</td>\n",
       "      <td>ACTOR</td>\n",
       "    </tr>\n",
       "  </tbody>\n",
       "</table>\n",
       "</div>"
      ],
      "text/plain": [
       "       person_id         id               name  \\\n",
       "27318     204824   tm232855   Nonie Buencamino   \n",
       "57742      86306   tm946360        Maria Broom   \n",
       "3910      103836    tm55100  Aditya Srivastava   \n",
       "61645     133429    ts89182         Enno Cheng   \n",
       "35037     263922    ts81526  François Hollande   \n",
       "67310    1249548  tm1094217    Jordan Tartakow   \n",
       "21248      66333    ts38090      Evan Williams   \n",
       "49504     194743   tm446609       Steve Bannon   \n",
       "42577     298189    ts82887      Mai Shiraishi   \n",
       "54139    1184679   tm483997     Motsi Tekateka   \n",
       "\n",
       "                                               character   role  \n",
       "27318                                                 JJ  ACTOR  \n",
       "57742                                     Regina Maxwell  ACTOR  \n",
       "3910                                           Terrorist  ACTOR  \n",
       "61645                                        Liu Zao Yun  ACTOR  \n",
       "35037                                            Himself  ACTOR  \n",
       "67310                                Chickenhare (voice)  ACTOR  \n",
       "21248                             The Knight of Lorraine  ACTOR  \n",
       "49504  Self - Former Chief Executive Trump Campaign (...  ACTOR  \n",
       "42577                                        Tsuki Ayako  ACTOR  \n",
       "54139                                       DDM Official  ACTOR  "
      ]
     },
     "execution_count": 6,
     "metadata": {},
     "output_type": "execute_result"
    }
   ],
   "source": [
    "df1.sample(10)"
   ]
  },
  {
   "cell_type": "markdown",
   "metadata": {},
   "source": [
    "根据分析目的，提取出role只包含演员的行"
   ]
  },
  {
   "cell_type": "code",
   "execution_count": 7,
   "metadata": {},
   "outputs": [],
   "source": [
    "df1_actor=df1.query('role==\"ACTOR\"')"
   ]
  },
  {
   "cell_type": "code",
   "execution_count": 8,
   "metadata": {},
   "outputs": [],
   "source": [
    "#创建一个副本，区别清理前后的df\n",
    "df1_actor_clean=df1_actor.copy()"
   ]
  },
  {
   "cell_type": "code",
   "execution_count": 9,
   "metadata": {},
   "outputs": [
    {
     "name": "stdout",
     "output_type": "stream",
     "text": [
      "<class 'pandas.core.frame.DataFrame'>\n",
      "Index: 73251 entries, 0 to 77799\n",
      "Data columns (total 5 columns):\n",
      " #   Column     Non-Null Count  Dtype \n",
      "---  ------     --------------  ----- \n",
      " 0   person_id  73251 non-null  int64 \n",
      " 1   id         73251 non-null  object\n",
      " 2   name       73251 non-null  object\n",
      " 3   character  68029 non-null  object\n",
      " 4   role       73251 non-null  object\n",
      "dtypes: int64(1), object(4)\n",
      "memory usage: 3.4+ MB\n"
     ]
    }
   ],
   "source": [
    "df1_actor_clean.info()"
   ]
  },
  {
   "cell_type": "code",
   "execution_count": 10,
   "metadata": {},
   "outputs": [],
   "source": [
    "#person_id转化成文本\n",
    "df1_actor_clean[\"person_id\"]=df1_actor_clean[\"person_id\"].astype(str)"
   ]
  },
  {
   "cell_type": "code",
   "execution_count": 11,
   "metadata": {},
   "outputs": [
    {
     "data": {
      "text/html": [
       "<div>\n",
       "<style scoped>\n",
       "    .dataframe tbody tr th:only-of-type {\n",
       "        vertical-align: middle;\n",
       "    }\n",
       "\n",
       "    .dataframe tbody tr th {\n",
       "        vertical-align: top;\n",
       "    }\n",
       "\n",
       "    .dataframe thead th {\n",
       "        text-align: right;\n",
       "    }\n",
       "</style>\n",
       "<table border=\"1\" class=\"dataframe\">\n",
       "  <thead>\n",
       "    <tr style=\"text-align: right;\">\n",
       "      <th></th>\n",
       "      <th>id</th>\n",
       "      <th>title</th>\n",
       "      <th>type</th>\n",
       "      <th>description</th>\n",
       "      <th>release_year</th>\n",
       "      <th>age_certification</th>\n",
       "      <th>runtime</th>\n",
       "      <th>genres</th>\n",
       "      <th>production_countries</th>\n",
       "      <th>seasons</th>\n",
       "      <th>imdb_id</th>\n",
       "      <th>imdb_score</th>\n",
       "      <th>imdb_votes</th>\n",
       "      <th>tmdb_popularity</th>\n",
       "      <th>tmdb_score</th>\n",
       "    </tr>\n",
       "  </thead>\n",
       "  <tbody>\n",
       "    <tr>\n",
       "      <th>4160</th>\n",
       "      <td>ts236197</td>\n",
       "      <td>StarBeam</td>\n",
       "      <td>SHOW</td>\n",
       "      <td>Zoey is excited to tackle second grade, but wh...</td>\n",
       "      <td>2020</td>\n",
       "      <td>TV-Y</td>\n",
       "      <td>13</td>\n",
       "      <td>[]</td>\n",
       "      <td>['CA']</td>\n",
       "      <td>4.0</td>\n",
       "      <td>NaN</td>\n",
       "      <td>NaN</td>\n",
       "      <td>NaN</td>\n",
       "      <td>6.803</td>\n",
       "      <td>6.9</td>\n",
       "    </tr>\n",
       "    <tr>\n",
       "      <th>1883</th>\n",
       "      <td>ts86296</td>\n",
       "      <td>Sunderland 'Til I Die</td>\n",
       "      <td>SHOW</td>\n",
       "      <td>This docuseries follows English soccer club Su...</td>\n",
       "      <td>2018</td>\n",
       "      <td>TV-MA</td>\n",
       "      <td>41</td>\n",
       "      <td>['documentation', 'sport']</td>\n",
       "      <td>['GB']</td>\n",
       "      <td>2.0</td>\n",
       "      <td>tt8914684</td>\n",
       "      <td>8.1</td>\n",
       "      <td>8113.0</td>\n",
       "      <td>5.099</td>\n",
       "      <td>8.0</td>\n",
       "    </tr>\n",
       "    <tr>\n",
       "      <th>1866</th>\n",
       "      <td>tm366567</td>\n",
       "      <td>When We First Met</td>\n",
       "      <td>MOVIE</td>\n",
       "      <td>Noah spends the perfect first night with the g...</td>\n",
       "      <td>2018</td>\n",
       "      <td>PG-13</td>\n",
       "      <td>97</td>\n",
       "      <td>['fantasy', 'comedy', 'romance']</td>\n",
       "      <td>['US']</td>\n",
       "      <td>NaN</td>\n",
       "      <td>tt5783956</td>\n",
       "      <td>6.4</td>\n",
       "      <td>48885.0</td>\n",
       "      <td>15.879</td>\n",
       "      <td>6.6</td>\n",
       "    </tr>\n",
       "    <tr>\n",
       "      <th>2647</th>\n",
       "      <td>tm357272</td>\n",
       "      <td>Barbra: The Music ... The Mem'ries ... The Magic!</td>\n",
       "      <td>MOVIE</td>\n",
       "      <td>Iconic songstress Barbra Streisand culminates ...</td>\n",
       "      <td>2017</td>\n",
       "      <td>NaN</td>\n",
       "      <td>108</td>\n",
       "      <td>['documentation', 'music']</td>\n",
       "      <td>['US']</td>\n",
       "      <td>NaN</td>\n",
       "      <td>tt7588850</td>\n",
       "      <td>7.5</td>\n",
       "      <td>448.0</td>\n",
       "      <td>4.214</td>\n",
       "      <td>7.4</td>\n",
       "    </tr>\n",
       "    <tr>\n",
       "      <th>5466</th>\n",
       "      <td>tm975741</td>\n",
       "      <td>Octonauts: The Ring of Fire</td>\n",
       "      <td>MOVIE</td>\n",
       "      <td>In this film's adventure, a volcano erupts sud...</td>\n",
       "      <td>2021</td>\n",
       "      <td>G</td>\n",
       "      <td>72</td>\n",
       "      <td>['animation']</td>\n",
       "      <td>['CN', 'GB']</td>\n",
       "      <td>NaN</td>\n",
       "      <td>tt13779166</td>\n",
       "      <td>6.4</td>\n",
       "      <td>137.0</td>\n",
       "      <td>5.576</td>\n",
       "      <td>6.8</td>\n",
       "    </tr>\n",
       "    <tr>\n",
       "      <th>3754</th>\n",
       "      <td>tm485801</td>\n",
       "      <td>So My Grandma's a Lesbian!</td>\n",
       "      <td>MOVIE</td>\n",
       "      <td>A promising young lawyer sees her plans to wed...</td>\n",
       "      <td>2019</td>\n",
       "      <td>NaN</td>\n",
       "      <td>94</td>\n",
       "      <td>['comedy', 'romance', 'european']</td>\n",
       "      <td>['ES', 'PT']</td>\n",
       "      <td>NaN</td>\n",
       "      <td>tt9695258</td>\n",
       "      <td>4.3</td>\n",
       "      <td>1122.0</td>\n",
       "      <td>6.736</td>\n",
       "      <td>5.3</td>\n",
       "    </tr>\n",
       "    <tr>\n",
       "      <th>2799</th>\n",
       "      <td>tm327951</td>\n",
       "      <td>The Doll 2</td>\n",
       "      <td>MOVIE</td>\n",
       "      <td>A couple who devastated after losing their onl...</td>\n",
       "      <td>2017</td>\n",
       "      <td>NaN</td>\n",
       "      <td>116</td>\n",
       "      <td>['horror', 'thriller']</td>\n",
       "      <td>['ID']</td>\n",
       "      <td>NaN</td>\n",
       "      <td>tt6409782</td>\n",
       "      <td>5.1</td>\n",
       "      <td>550.0</td>\n",
       "      <td>5.769</td>\n",
       "      <td>5.6</td>\n",
       "    </tr>\n",
       "    <tr>\n",
       "      <th>2359</th>\n",
       "      <td>tm370628</td>\n",
       "      <td>Fred Armisen: Standup for Drummers</td>\n",
       "      <td>MOVIE</td>\n",
       "      <td>For an audience of drummers, comedian Fred Arm...</td>\n",
       "      <td>2018</td>\n",
       "      <td>NaN</td>\n",
       "      <td>65</td>\n",
       "      <td>['music', 'comedy']</td>\n",
       "      <td>['US']</td>\n",
       "      <td>NaN</td>\n",
       "      <td>tt7924798</td>\n",
       "      <td>5.8</td>\n",
       "      <td>1294.0</td>\n",
       "      <td>4.256</td>\n",
       "      <td>6.2</td>\n",
       "    </tr>\n",
       "    <tr>\n",
       "      <th>440</th>\n",
       "      <td>tm71119</td>\n",
       "      <td>Delta Farce</td>\n",
       "      <td>MOVIE</td>\n",
       "      <td>Three bumbling Army reservists are hustled ont...</td>\n",
       "      <td>2007</td>\n",
       "      <td>PG-13</td>\n",
       "      <td>90</td>\n",
       "      <td>['comedy', 'action']</td>\n",
       "      <td>['US']</td>\n",
       "      <td>NaN</td>\n",
       "      <td>tt0800003</td>\n",
       "      <td>3.6</td>\n",
       "      <td>11177.0</td>\n",
       "      <td>10.367</td>\n",
       "      <td>5.0</td>\n",
       "    </tr>\n",
       "    <tr>\n",
       "      <th>4301</th>\n",
       "      <td>tm926528</td>\n",
       "      <td>AK vs AK</td>\n",
       "      <td>MOVIE</td>\n",
       "      <td>After a public spat with a movie star,  a disg...</td>\n",
       "      <td>2020</td>\n",
       "      <td>NaN</td>\n",
       "      <td>108</td>\n",
       "      <td>['drama', 'action', 'crime', 'thriller', 'come...</td>\n",
       "      <td>['IN']</td>\n",
       "      <td>NaN</td>\n",
       "      <td>tt11651796</td>\n",
       "      <td>6.9</td>\n",
       "      <td>14195.0</td>\n",
       "      <td>3.757</td>\n",
       "      <td>7.3</td>\n",
       "    </tr>\n",
       "  </tbody>\n",
       "</table>\n",
       "</div>"
      ],
      "text/plain": [
       "            id                                              title   type  \\\n",
       "4160  ts236197                                           StarBeam   SHOW   \n",
       "1883   ts86296                              Sunderland 'Til I Die   SHOW   \n",
       "1866  tm366567                                  When We First Met  MOVIE   \n",
       "2647  tm357272  Barbra: The Music ... The Mem'ries ... The Magic!  MOVIE   \n",
       "5466  tm975741                        Octonauts: The Ring of Fire  MOVIE   \n",
       "3754  tm485801                         So My Grandma's a Lesbian!  MOVIE   \n",
       "2799  tm327951                                         The Doll 2  MOVIE   \n",
       "2359  tm370628                 Fred Armisen: Standup for Drummers  MOVIE   \n",
       "440    tm71119                                        Delta Farce  MOVIE   \n",
       "4301  tm926528                                           AK vs AK  MOVIE   \n",
       "\n",
       "                                            description  release_year  \\\n",
       "4160  Zoey is excited to tackle second grade, but wh...          2020   \n",
       "1883  This docuseries follows English soccer club Su...          2018   \n",
       "1866  Noah spends the perfect first night with the g...          2018   \n",
       "2647  Iconic songstress Barbra Streisand culminates ...          2017   \n",
       "5466  In this film's adventure, a volcano erupts sud...          2021   \n",
       "3754  A promising young lawyer sees her plans to wed...          2019   \n",
       "2799  A couple who devastated after losing their onl...          2017   \n",
       "2359  For an audience of drummers, comedian Fred Arm...          2018   \n",
       "440   Three bumbling Army reservists are hustled ont...          2007   \n",
       "4301  After a public spat with a movie star,  a disg...          2020   \n",
       "\n",
       "     age_certification  runtime  \\\n",
       "4160              TV-Y       13   \n",
       "1883             TV-MA       41   \n",
       "1866             PG-13       97   \n",
       "2647               NaN      108   \n",
       "5466                 G       72   \n",
       "3754               NaN       94   \n",
       "2799               NaN      116   \n",
       "2359               NaN       65   \n",
       "440              PG-13       90   \n",
       "4301               NaN      108   \n",
       "\n",
       "                                                 genres production_countries  \\\n",
       "4160                                                 []               ['CA']   \n",
       "1883                         ['documentation', 'sport']               ['GB']   \n",
       "1866                   ['fantasy', 'comedy', 'romance']               ['US']   \n",
       "2647                         ['documentation', 'music']               ['US']   \n",
       "5466                                      ['animation']         ['CN', 'GB']   \n",
       "3754                  ['comedy', 'romance', 'european']         ['ES', 'PT']   \n",
       "2799                             ['horror', 'thriller']               ['ID']   \n",
       "2359                                ['music', 'comedy']               ['US']   \n",
       "440                                ['comedy', 'action']               ['US']   \n",
       "4301  ['drama', 'action', 'crime', 'thriller', 'come...               ['IN']   \n",
       "\n",
       "      seasons     imdb_id  imdb_score  imdb_votes  tmdb_popularity  tmdb_score  \n",
       "4160      4.0         NaN         NaN         NaN            6.803         6.9  \n",
       "1883      2.0   tt8914684         8.1      8113.0            5.099         8.0  \n",
       "1866      NaN   tt5783956         6.4     48885.0           15.879         6.6  \n",
       "2647      NaN   tt7588850         7.5       448.0            4.214         7.4  \n",
       "5466      NaN  tt13779166         6.4       137.0            5.576         6.8  \n",
       "3754      NaN   tt9695258         4.3      1122.0            6.736         5.3  \n",
       "2799      NaN   tt6409782         5.1       550.0            5.769         5.6  \n",
       "2359      NaN   tt7924798         5.8      1294.0            4.256         6.2  \n",
       "440       NaN   tt0800003         3.6     11177.0           10.367         5.0  \n",
       "4301      NaN  tt11651796         6.9     14195.0            3.757         7.3  "
      ]
     },
     "execution_count": 11,
     "metadata": {},
     "output_type": "execute_result"
    }
   ],
   "source": [
    "df2.sample(10)"
   ]
  },
  {
   "cell_type": "code",
   "execution_count": 12,
   "metadata": {},
   "outputs": [
    {
     "name": "stdout",
     "output_type": "stream",
     "text": [
      "<class 'pandas.core.frame.DataFrame'>\n",
      "RangeIndex: 5850 entries, 0 to 5849\n",
      "Data columns (total 15 columns):\n",
      " #   Column                Non-Null Count  Dtype  \n",
      "---  ------                --------------  -----  \n",
      " 0   id                    5850 non-null   object \n",
      " 1   title                 5849 non-null   object \n",
      " 2   type                  5850 non-null   object \n",
      " 3   description           5832 non-null   object \n",
      " 4   release_year          5850 non-null   int64  \n",
      " 5   age_certification     3231 non-null   object \n",
      " 6   runtime               5850 non-null   int64  \n",
      " 7   genres                5850 non-null   object \n",
      " 8   production_countries  5850 non-null   object \n",
      " 9   seasons               2106 non-null   float64\n",
      " 10  imdb_id               5447 non-null   object \n",
      " 11  imdb_score            5368 non-null   float64\n",
      " 12  imdb_votes            5352 non-null   float64\n",
      " 13  tmdb_popularity       5759 non-null   float64\n",
      " 14  tmdb_score            5539 non-null   float64\n",
      "dtypes: float64(5), int64(2), object(8)\n",
      "memory usage: 685.7+ KB\n"
     ]
    }
   ],
   "source": [
    "df2.info()"
   ]
  },
  {
   "cell_type": "markdown",
   "metadata": {},
   "source": [
    "imdb_score是分析的重点，这列缺失的行可以去掉 "
   ]
  },
  {
   "cell_type": "code",
   "execution_count": 13,
   "metadata": {},
   "outputs": [],
   "source": [
    "#创建一个副本\n",
    "df2_clean=df2.copy()"
   ]
  },
  {
   "cell_type": "code",
   "execution_count": 14,
   "metadata": {},
   "outputs": [],
   "source": [
    "#dropna方法，传入subset参数，删除imdb_score为na的行\n",
    "df2_clean=df2_clean.dropna(subset=[\"imdb_score\"])"
   ]
  },
  {
   "cell_type": "code",
   "execution_count": 15,
   "metadata": {},
   "outputs": [
    {
     "name": "stdout",
     "output_type": "stream",
     "text": [
      "<class 'pandas.core.frame.DataFrame'>\n",
      "Index: 5368 entries, 1 to 5849\n",
      "Data columns (total 15 columns):\n",
      " #   Column                Non-Null Count  Dtype  \n",
      "---  ------                --------------  -----  \n",
      " 0   id                    5368 non-null   object \n",
      " 1   title                 5368 non-null   object \n",
      " 2   type                  5368 non-null   object \n",
      " 3   description           5363 non-null   object \n",
      " 4   release_year          5368 non-null   int64  \n",
      " 5   age_certification     3033 non-null   object \n",
      " 6   runtime               5368 non-null   int64  \n",
      " 7   genres                5368 non-null   object \n",
      " 8   production_countries  5368 non-null   object \n",
      " 9   seasons               1939 non-null   float64\n",
      " 10  imdb_id               5368 non-null   object \n",
      " 11  imdb_score            5368 non-null   float64\n",
      " 12  imdb_votes            5352 non-null   float64\n",
      " 13  tmdb_popularity       5293 non-null   float64\n",
      " 14  tmdb_score            5145 non-null   float64\n",
      "dtypes: float64(5), int64(2), object(8)\n",
      "memory usage: 671.0+ KB\n"
     ]
    }
   ],
   "source": [
    "df2_clean.info()"
   ]
  },
  {
   "cell_type": "code",
   "execution_count": 16,
   "metadata": {
    "scrolled": true
   },
   "outputs": [
    {
     "data": {
      "text/plain": [
       "1                                ['drama', 'crime']\n",
       "2       ['drama', 'action', 'thriller', 'european']\n",
       "3                   ['fantasy', 'action', 'comedy']\n",
       "4                                 ['war', 'action']\n",
       "5                            ['comedy', 'european']\n",
       "                           ...                     \n",
       "5843                 ['romance', 'comedy', 'drama']\n",
       "5845                           ['romance', 'drama']\n",
       "5846                                      ['drama']\n",
       "5847                                     ['comedy']\n",
       "5849              ['family', 'animation', 'comedy']\n",
       "Name: genres, Length: 5368, dtype: object"
      ]
     },
     "execution_count": 16,
     "metadata": {},
     "output_type": "execute_result"
    }
   ],
   "source": [
    "df2_clean.genres"
   ]
  },
  {
   "cell_type": "code",
   "execution_count": 17,
   "metadata": {},
   "outputs": [
    {
     "data": {
      "text/plain": [
       "\"['drama', 'crime']\""
      ]
     },
     "execution_count": 17,
     "metadata": {},
     "output_type": "execute_result"
    }
   ],
   "source": [
    "df2_clean.genres[1]\n",
    "#genres列形式是列表，实际是字符串"
   ]
  },
  {
   "cell_type": "code",
   "execution_count": 18,
   "metadata": {},
   "outputs": [],
   "source": [
    "#eval(x)把字符串列表转换成列表，并将转换后的结果赋值给genres\n",
    "df2_clean.genres=df2_clean.genres.apply(lambda x:eval(x))"
   ]
  },
  {
   "cell_type": "code",
   "execution_count": 19,
   "metadata": {},
   "outputs": [],
   "source": [
    "df2_clean=df2_clean.explode(\"genres\")"
   ]
  },
  {
   "cell_type": "code",
   "execution_count": 20,
   "metadata": {},
   "outputs": [
    {
     "data": {
      "text/plain": [
       "1    ['US']\n",
       "1    ['US']\n",
       "Name: production_countries, dtype: object"
      ]
     },
     "execution_count": 20,
     "metadata": {},
     "output_type": "execute_result"
    }
   ],
   "source": [
    "df2_clean.production_countries[1]"
   ]
  },
  {
   "cell_type": "code",
   "execution_count": 21,
   "metadata": {},
   "outputs": [],
   "source": [
    "df2_clean.production_countries=df2_clean.production_countries.apply(lambda x:eval(x))"
   ]
  },
  {
   "cell_type": "code",
   "execution_count": 22,
   "metadata": {},
   "outputs": [],
   "source": [
    "df2_cleaned=df2_clean.explode(\"production_countries\")"
   ]
  },
  {
   "cell_type": "code",
   "execution_count": 23,
   "metadata": {},
   "outputs": [
    {
     "data": {
      "text/html": [
       "<div>\n",
       "<style scoped>\n",
       "    .dataframe tbody tr th:only-of-type {\n",
       "        vertical-align: middle;\n",
       "    }\n",
       "\n",
       "    .dataframe tbody tr th {\n",
       "        vertical-align: top;\n",
       "    }\n",
       "\n",
       "    .dataframe thead th {\n",
       "        text-align: right;\n",
       "    }\n",
       "</style>\n",
       "<table border=\"1\" class=\"dataframe\">\n",
       "  <thead>\n",
       "    <tr style=\"text-align: right;\">\n",
       "      <th></th>\n",
       "      <th>id</th>\n",
       "      <th>title</th>\n",
       "      <th>type</th>\n",
       "      <th>description</th>\n",
       "      <th>release_year</th>\n",
       "      <th>age_certification</th>\n",
       "      <th>runtime</th>\n",
       "      <th>genres</th>\n",
       "      <th>production_countries</th>\n",
       "      <th>seasons</th>\n",
       "      <th>imdb_id</th>\n",
       "      <th>imdb_score</th>\n",
       "      <th>imdb_votes</th>\n",
       "      <th>tmdb_popularity</th>\n",
       "      <th>tmdb_score</th>\n",
       "    </tr>\n",
       "  </thead>\n",
       "  <tbody>\n",
       "    <tr>\n",
       "      <th>1</th>\n",
       "      <td>tm84618</td>\n",
       "      <td>Taxi Driver</td>\n",
       "      <td>MOVIE</td>\n",
       "      <td>A mentally unstable Vietnam War veteran works ...</td>\n",
       "      <td>1976</td>\n",
       "      <td>R</td>\n",
       "      <td>114</td>\n",
       "      <td>drama</td>\n",
       "      <td>US</td>\n",
       "      <td>NaN</td>\n",
       "      <td>tt0075314</td>\n",
       "      <td>8.2</td>\n",
       "      <td>808582.0</td>\n",
       "      <td>40.965</td>\n",
       "      <td>8.179</td>\n",
       "    </tr>\n",
       "    <tr>\n",
       "      <th>1</th>\n",
       "      <td>tm84618</td>\n",
       "      <td>Taxi Driver</td>\n",
       "      <td>MOVIE</td>\n",
       "      <td>A mentally unstable Vietnam War veteran works ...</td>\n",
       "      <td>1976</td>\n",
       "      <td>R</td>\n",
       "      <td>114</td>\n",
       "      <td>crime</td>\n",
       "      <td>US</td>\n",
       "      <td>NaN</td>\n",
       "      <td>tt0075314</td>\n",
       "      <td>8.2</td>\n",
       "      <td>808582.0</td>\n",
       "      <td>40.965</td>\n",
       "      <td>8.179</td>\n",
       "    </tr>\n",
       "    <tr>\n",
       "      <th>2</th>\n",
       "      <td>tm154986</td>\n",
       "      <td>Deliverance</td>\n",
       "      <td>MOVIE</td>\n",
       "      <td>Intent on seeing the Cahulawassee River before...</td>\n",
       "      <td>1972</td>\n",
       "      <td>R</td>\n",
       "      <td>109</td>\n",
       "      <td>drama</td>\n",
       "      <td>US</td>\n",
       "      <td>NaN</td>\n",
       "      <td>tt0068473</td>\n",
       "      <td>7.7</td>\n",
       "      <td>107673.0</td>\n",
       "      <td>10.010</td>\n",
       "      <td>7.300</td>\n",
       "    </tr>\n",
       "    <tr>\n",
       "      <th>2</th>\n",
       "      <td>tm154986</td>\n",
       "      <td>Deliverance</td>\n",
       "      <td>MOVIE</td>\n",
       "      <td>Intent on seeing the Cahulawassee River before...</td>\n",
       "      <td>1972</td>\n",
       "      <td>R</td>\n",
       "      <td>109</td>\n",
       "      <td>action</td>\n",
       "      <td>US</td>\n",
       "      <td>NaN</td>\n",
       "      <td>tt0068473</td>\n",
       "      <td>7.7</td>\n",
       "      <td>107673.0</td>\n",
       "      <td>10.010</td>\n",
       "      <td>7.300</td>\n",
       "    </tr>\n",
       "    <tr>\n",
       "      <th>2</th>\n",
       "      <td>tm154986</td>\n",
       "      <td>Deliverance</td>\n",
       "      <td>MOVIE</td>\n",
       "      <td>Intent on seeing the Cahulawassee River before...</td>\n",
       "      <td>1972</td>\n",
       "      <td>R</td>\n",
       "      <td>109</td>\n",
       "      <td>thriller</td>\n",
       "      <td>US</td>\n",
       "      <td>NaN</td>\n",
       "      <td>tt0068473</td>\n",
       "      <td>7.7</td>\n",
       "      <td>107673.0</td>\n",
       "      <td>10.010</td>\n",
       "      <td>7.300</td>\n",
       "    </tr>\n",
       "    <tr>\n",
       "      <th>...</th>\n",
       "      <td>...</td>\n",
       "      <td>...</td>\n",
       "      <td>...</td>\n",
       "      <td>...</td>\n",
       "      <td>...</td>\n",
       "      <td>...</td>\n",
       "      <td>...</td>\n",
       "      <td>...</td>\n",
       "      <td>...</td>\n",
       "      <td>...</td>\n",
       "      <td>...</td>\n",
       "      <td>...</td>\n",
       "      <td>...</td>\n",
       "      <td>...</td>\n",
       "      <td>...</td>\n",
       "    </tr>\n",
       "    <tr>\n",
       "      <th>5846</th>\n",
       "      <td>tm898842</td>\n",
       "      <td>C/O Kaadhal</td>\n",
       "      <td>MOVIE</td>\n",
       "      <td>A heart warming film that explores the concept...</td>\n",
       "      <td>2021</td>\n",
       "      <td>NaN</td>\n",
       "      <td>134</td>\n",
       "      <td>drama</td>\n",
       "      <td>NaN</td>\n",
       "      <td>NaN</td>\n",
       "      <td>tt11803618</td>\n",
       "      <td>7.7</td>\n",
       "      <td>348.0</td>\n",
       "      <td>NaN</td>\n",
       "      <td>NaN</td>\n",
       "    </tr>\n",
       "    <tr>\n",
       "      <th>5847</th>\n",
       "      <td>tm1059008</td>\n",
       "      <td>Lokillo</td>\n",
       "      <td>MOVIE</td>\n",
       "      <td>A controversial TV host and comedian who has b...</td>\n",
       "      <td>2021</td>\n",
       "      <td>NaN</td>\n",
       "      <td>90</td>\n",
       "      <td>comedy</td>\n",
       "      <td>CO</td>\n",
       "      <td>NaN</td>\n",
       "      <td>tt14585902</td>\n",
       "      <td>3.8</td>\n",
       "      <td>68.0</td>\n",
       "      <td>26.005</td>\n",
       "      <td>6.300</td>\n",
       "    </tr>\n",
       "    <tr>\n",
       "      <th>5849</th>\n",
       "      <td>ts271048</td>\n",
       "      <td>Mighty Little Bheem: Kite Festival</td>\n",
       "      <td>SHOW</td>\n",
       "      <td>With winter behind them, Bheem and his townspe...</td>\n",
       "      <td>2021</td>\n",
       "      <td>NaN</td>\n",
       "      <td>7</td>\n",
       "      <td>family</td>\n",
       "      <td>NaN</td>\n",
       "      <td>1.0</td>\n",
       "      <td>tt13711094</td>\n",
       "      <td>7.8</td>\n",
       "      <td>18.0</td>\n",
       "      <td>2.289</td>\n",
       "      <td>10.000</td>\n",
       "    </tr>\n",
       "    <tr>\n",
       "      <th>5849</th>\n",
       "      <td>ts271048</td>\n",
       "      <td>Mighty Little Bheem: Kite Festival</td>\n",
       "      <td>SHOW</td>\n",
       "      <td>With winter behind them, Bheem and his townspe...</td>\n",
       "      <td>2021</td>\n",
       "      <td>NaN</td>\n",
       "      <td>7</td>\n",
       "      <td>animation</td>\n",
       "      <td>NaN</td>\n",
       "      <td>1.0</td>\n",
       "      <td>tt13711094</td>\n",
       "      <td>7.8</td>\n",
       "      <td>18.0</td>\n",
       "      <td>2.289</td>\n",
       "      <td>10.000</td>\n",
       "    </tr>\n",
       "    <tr>\n",
       "      <th>5849</th>\n",
       "      <td>ts271048</td>\n",
       "      <td>Mighty Little Bheem: Kite Festival</td>\n",
       "      <td>SHOW</td>\n",
       "      <td>With winter behind them, Bheem and his townspe...</td>\n",
       "      <td>2021</td>\n",
       "      <td>NaN</td>\n",
       "      <td>7</td>\n",
       "      <td>comedy</td>\n",
       "      <td>NaN</td>\n",
       "      <td>1.0</td>\n",
       "      <td>tt13711094</td>\n",
       "      <td>7.8</td>\n",
       "      <td>18.0</td>\n",
       "      <td>2.289</td>\n",
       "      <td>10.000</td>\n",
       "    </tr>\n",
       "  </tbody>\n",
       "</table>\n",
       "<p>16976 rows × 15 columns</p>\n",
       "</div>"
      ],
      "text/plain": [
       "             id                               title   type  \\\n",
       "1       tm84618                         Taxi Driver  MOVIE   \n",
       "1       tm84618                         Taxi Driver  MOVIE   \n",
       "2      tm154986                         Deliverance  MOVIE   \n",
       "2      tm154986                         Deliverance  MOVIE   \n",
       "2      tm154986                         Deliverance  MOVIE   \n",
       "...         ...                                 ...    ...   \n",
       "5846   tm898842                         C/O Kaadhal  MOVIE   \n",
       "5847  tm1059008                             Lokillo  MOVIE   \n",
       "5849   ts271048  Mighty Little Bheem: Kite Festival   SHOW   \n",
       "5849   ts271048  Mighty Little Bheem: Kite Festival   SHOW   \n",
       "5849   ts271048  Mighty Little Bheem: Kite Festival   SHOW   \n",
       "\n",
       "                                            description  release_year  \\\n",
       "1     A mentally unstable Vietnam War veteran works ...          1976   \n",
       "1     A mentally unstable Vietnam War veteran works ...          1976   \n",
       "2     Intent on seeing the Cahulawassee River before...          1972   \n",
       "2     Intent on seeing the Cahulawassee River before...          1972   \n",
       "2     Intent on seeing the Cahulawassee River before...          1972   \n",
       "...                                                 ...           ...   \n",
       "5846  A heart warming film that explores the concept...          2021   \n",
       "5847  A controversial TV host and comedian who has b...          2021   \n",
       "5849  With winter behind them, Bheem and his townspe...          2021   \n",
       "5849  With winter behind them, Bheem and his townspe...          2021   \n",
       "5849  With winter behind them, Bheem and his townspe...          2021   \n",
       "\n",
       "     age_certification  runtime     genres production_countries  seasons  \\\n",
       "1                    R      114      drama                   US      NaN   \n",
       "1                    R      114      crime                   US      NaN   \n",
       "2                    R      109      drama                   US      NaN   \n",
       "2                    R      109     action                   US      NaN   \n",
       "2                    R      109   thriller                   US      NaN   \n",
       "...                ...      ...        ...                  ...      ...   \n",
       "5846               NaN      134      drama                  NaN      NaN   \n",
       "5847               NaN       90     comedy                   CO      NaN   \n",
       "5849               NaN        7     family                  NaN      1.0   \n",
       "5849               NaN        7  animation                  NaN      1.0   \n",
       "5849               NaN        7     comedy                  NaN      1.0   \n",
       "\n",
       "         imdb_id  imdb_score  imdb_votes  tmdb_popularity  tmdb_score  \n",
       "1      tt0075314         8.2    808582.0           40.965       8.179  \n",
       "1      tt0075314         8.2    808582.0           40.965       8.179  \n",
       "2      tt0068473         7.7    107673.0           10.010       7.300  \n",
       "2      tt0068473         7.7    107673.0           10.010       7.300  \n",
       "2      tt0068473         7.7    107673.0           10.010       7.300  \n",
       "...          ...         ...         ...              ...         ...  \n",
       "5846  tt11803618         7.7       348.0              NaN         NaN  \n",
       "5847  tt14585902         3.8        68.0           26.005       6.300  \n",
       "5849  tt13711094         7.8        18.0            2.289      10.000  \n",
       "5849  tt13711094         7.8        18.0            2.289      10.000  \n",
       "5849  tt13711094         7.8        18.0            2.289      10.000  \n",
       "\n",
       "[16976 rows x 15 columns]"
      ]
     },
     "execution_count": 23,
     "metadata": {},
     "output_type": "execute_result"
    }
   ],
   "source": [
    "df2_cleaned"
   ]
  },
  {
   "cell_type": "markdown",
   "metadata": {},
   "source": [
    "观察影视作品，演员表是否有重复值"
   ]
  },
  {
   "cell_type": "code",
   "execution_count": 24,
   "metadata": {},
   "outputs": [
    {
     "data": {
      "text/plain": [
       "0"
      ]
     },
     "execution_count": 24,
     "metadata": {},
     "output_type": "execute_result"
    }
   ],
   "source": [
    "df1_actor_clean.duplicated().sum()"
   ]
  },
  {
   "cell_type": "code",
   "execution_count": 25,
   "metadata": {},
   "outputs": [
    {
     "data": {
      "text/plain": [
       "0"
      ]
     },
     "execution_count": 25,
     "metadata": {},
     "output_type": "execute_result"
    }
   ],
   "source": [
    "df2_cleaned.duplicated().sum()"
   ]
  },
  {
   "cell_type": "markdown",
   "metadata": {},
   "source": [
    "评估，清洗完的数据df1_actor_clean，df2_cleaned\n",
    "通过影视作品id拼接这两个df,出于分析的目的，需要用内连接inner"
   ]
  },
  {
   "cell_type": "code",
   "execution_count": 26,
   "metadata": {},
   "outputs": [],
   "source": [
    "df3=pd.merge(df1_actor_clean,df2_cleaned,on=[\"id\"])"
   ]
  },
  {
   "cell_type": "code",
   "execution_count": 27,
   "metadata": {},
   "outputs": [
    {
     "name": "stdout",
     "output_type": "stream",
     "text": [
      "<class 'pandas.core.frame.DataFrame'>\n",
      "RangeIndex: 262616 entries, 0 to 262615\n",
      "Data columns (total 19 columns):\n",
      " #   Column                Non-Null Count   Dtype  \n",
      "---  ------                --------------   -----  \n",
      " 0   person_id             262616 non-null  object \n",
      " 1   id                    262616 non-null  object \n",
      " 2   name                  262616 non-null  object \n",
      " 3   character             249643 non-null  object \n",
      " 4   role                  262616 non-null  object \n",
      " 5   title                 262616 non-null  object \n",
      " 6   type                  262616 non-null  object \n",
      " 7   description           262596 non-null  object \n",
      " 8   release_year          262616 non-null  int64  \n",
      " 9   age_certification     176896 non-null  object \n",
      " 10  runtime               262616 non-null  int64  \n",
      " 11  genres                262614 non-null  object \n",
      " 12  production_countries  261657 non-null  object \n",
      " 13  seasons               44537 non-null   float64\n",
      " 14  imdb_id               262616 non-null  object \n",
      " 15  imdb_score            262616 non-null  float64\n",
      " 16  imdb_votes            262424 non-null  float64\n",
      " 17  tmdb_popularity       262596 non-null  float64\n",
      " 18  tmdb_score            260936 non-null  float64\n",
      "dtypes: float64(5), int64(2), object(12)\n",
      "memory usage: 38.1+ MB\n"
     ]
    }
   ],
   "source": [
    "df3.info()"
   ]
  },
  {
   "cell_type": "code",
   "execution_count": 28,
   "metadata": {},
   "outputs": [],
   "source": [
    "df4=df3.groupby([\"genres\",\"id\",\"person_id\"])[\"imdb_score\"].mean()"
   ]
  },
  {
   "cell_type": "code",
   "execution_count": 29,
   "metadata": {},
   "outputs": [],
   "source": [
    "df4=df4.reset_index()"
   ]
  },
  {
   "cell_type": "code",
   "execution_count": 30,
   "metadata": {},
   "outputs": [],
   "source": [
    "#ascending参数设置降序或者升序\n",
    "df4=df4.sort_values(\"imdb_score\",ascending=False).reset_index()"
   ]
  },
  {
   "cell_type": "markdown",
   "metadata": {},
   "source": [
    "重置索引，删除index列"
   ]
  },
  {
   "cell_type": "code",
   "execution_count": 31,
   "metadata": {},
   "outputs": [],
   "source": [
    "df4.drop(\"index\",axis=1,inplace=True)"
   ]
  },
  {
   "cell_type": "code",
   "execution_count": 32,
   "metadata": {
    "scrolled": true
   },
   "outputs": [
    {
     "data": {
      "text/html": [
       "<div>\n",
       "<style scoped>\n",
       "    .dataframe tbody tr th:only-of-type {\n",
       "        vertical-align: middle;\n",
       "    }\n",
       "\n",
       "    .dataframe tbody tr th {\n",
       "        vertical-align: top;\n",
       "    }\n",
       "\n",
       "    .dataframe thead th {\n",
       "        text-align: right;\n",
       "    }\n",
       "</style>\n",
       "<table border=\"1\" class=\"dataframe\">\n",
       "  <thead>\n",
       "    <tr style=\"text-align: right;\">\n",
       "      <th></th>\n",
       "      <th>genres</th>\n",
       "      <th>person_id</th>\n",
       "      <th>imdb_score</th>\n",
       "    </tr>\n",
       "  </thead>\n",
       "  <tbody>\n",
       "    <tr>\n",
       "      <th>0</th>\n",
       "      <td>thriller</td>\n",
       "      <td>20552</td>\n",
       "      <td>9.5</td>\n",
       "    </tr>\n",
       "    <tr>\n",
       "      <th>1</th>\n",
       "      <td>drama</td>\n",
       "      <td>37752</td>\n",
       "      <td>9.5</td>\n",
       "    </tr>\n",
       "    <tr>\n",
       "      <th>2</th>\n",
       "      <td>crime</td>\n",
       "      <td>20552</td>\n",
       "      <td>9.5</td>\n",
       "    </tr>\n",
       "    <tr>\n",
       "      <th>3</th>\n",
       "      <td>thriller</td>\n",
       "      <td>37752</td>\n",
       "      <td>9.5</td>\n",
       "    </tr>\n",
       "    <tr>\n",
       "      <th>4</th>\n",
       "      <td>drama</td>\n",
       "      <td>20552</td>\n",
       "      <td>9.5</td>\n",
       "    </tr>\n",
       "    <tr>\n",
       "      <th>...</th>\n",
       "      <td>...</td>\n",
       "      <td>...</td>\n",
       "      <td>...</td>\n",
       "    </tr>\n",
       "    <tr>\n",
       "      <th>168876</th>\n",
       "      <td>scifi</td>\n",
       "      <td>1431151</td>\n",
       "      <td>1.5</td>\n",
       "    </tr>\n",
       "    <tr>\n",
       "      <th>168877</th>\n",
       "      <td>scifi</td>\n",
       "      <td>1431135</td>\n",
       "      <td>1.5</td>\n",
       "    </tr>\n",
       "    <tr>\n",
       "      <th>168878</th>\n",
       "      <td>scifi</td>\n",
       "      <td>1431133</td>\n",
       "      <td>1.5</td>\n",
       "    </tr>\n",
       "    <tr>\n",
       "      <th>168879</th>\n",
       "      <td>scifi</td>\n",
       "      <td>1430247</td>\n",
       "      <td>1.5</td>\n",
       "    </tr>\n",
       "    <tr>\n",
       "      <th>168880</th>\n",
       "      <td>thriller</td>\n",
       "      <td>1431133</td>\n",
       "      <td>1.5</td>\n",
       "    </tr>\n",
       "  </tbody>\n",
       "</table>\n",
       "<p>168881 rows × 3 columns</p>\n",
       "</div>"
      ],
      "text/plain": [
       "          genres person_id  imdb_score\n",
       "0       thriller     20552         9.5\n",
       "1          drama     37752         9.5\n",
       "2          crime     20552         9.5\n",
       "3       thriller     37752         9.5\n",
       "4          drama     20552         9.5\n",
       "...          ...       ...         ...\n",
       "168876     scifi   1431151         1.5\n",
       "168877     scifi   1431135         1.5\n",
       "168878     scifi   1431133         1.5\n",
       "168879     scifi   1430247         1.5\n",
       "168880  thriller   1431133         1.5\n",
       "\n",
       "[168881 rows x 3 columns]"
      ]
     },
     "execution_count": 32,
     "metadata": {},
     "output_type": "execute_result"
    }
   ],
   "source": [
    "df4"
   ]
  },
  {
   "cell_type": "code",
   "execution_count": 33,
   "metadata": {},
   "outputs": [
    {
     "data": {
      "text/html": [
       "<div>\n",
       "<style scoped>\n",
       "    .dataframe tbody tr th:only-of-type {\n",
       "        vertical-align: middle;\n",
       "    }\n",
       "\n",
       "    .dataframe tbody tr th {\n",
       "        vertical-align: top;\n",
       "    }\n",
       "\n",
       "    .dataframe thead th {\n",
       "        text-align: right;\n",
       "    }\n",
       "</style>\n",
       "<table border=\"1\" class=\"dataframe\">\n",
       "  <thead>\n",
       "    <tr style=\"text-align: right;\">\n",
       "      <th></th>\n",
       "      <th>genres</th>\n",
       "      <th>person_id</th>\n",
       "      <th>imdb_score</th>\n",
       "    </tr>\n",
       "  </thead>\n",
       "  <tbody>\n",
       "    <tr>\n",
       "      <th>9</th>\n",
       "      <td>action</td>\n",
       "      <td>12790</td>\n",
       "      <td>9.3</td>\n",
       "    </tr>\n",
       "    <tr>\n",
       "      <th>22</th>\n",
       "      <td>action</td>\n",
       "      <td>1303</td>\n",
       "      <td>9.3</td>\n",
       "    </tr>\n",
       "    <tr>\n",
       "      <th>25</th>\n",
       "      <td>action</td>\n",
       "      <td>21033</td>\n",
       "      <td>9.3</td>\n",
       "    </tr>\n",
       "    <tr>\n",
       "      <th>27</th>\n",
       "      <td>action</td>\n",
       "      <td>336830</td>\n",
       "      <td>9.3</td>\n",
       "    </tr>\n",
       "    <tr>\n",
       "      <th>28</th>\n",
       "      <td>action</td>\n",
       "      <td>86591</td>\n",
       "      <td>9.3</td>\n",
       "    </tr>\n",
       "    <tr>\n",
       "      <th>...</th>\n",
       "      <td>...</td>\n",
       "      <td>...</td>\n",
       "      <td>...</td>\n",
       "    </tr>\n",
       "    <tr>\n",
       "      <th>168819</th>\n",
       "      <td>action</td>\n",
       "      <td>65927</td>\n",
       "      <td>1.7</td>\n",
       "    </tr>\n",
       "    <tr>\n",
       "      <th>168823</th>\n",
       "      <td>action</td>\n",
       "      <td>237857</td>\n",
       "      <td>1.7</td>\n",
       "    </tr>\n",
       "    <tr>\n",
       "      <th>168824</th>\n",
       "      <td>action</td>\n",
       "      <td>881371</td>\n",
       "      <td>1.7</td>\n",
       "    </tr>\n",
       "    <tr>\n",
       "      <th>168827</th>\n",
       "      <td>action</td>\n",
       "      <td>918609</td>\n",
       "      <td>1.7</td>\n",
       "    </tr>\n",
       "    <tr>\n",
       "      <th>168829</th>\n",
       "      <td>action</td>\n",
       "      <td>419159</td>\n",
       "      <td>1.7</td>\n",
       "    </tr>\n",
       "  </tbody>\n",
       "</table>\n",
       "<p>15277 rows × 3 columns</p>\n",
       "</div>"
      ],
      "text/plain": [
       "        genres person_id  imdb_score\n",
       "9       action     12790         9.3\n",
       "22      action      1303         9.3\n",
       "25      action     21033         9.3\n",
       "27      action    336830         9.3\n",
       "28      action     86591         9.3\n",
       "...        ...       ...         ...\n",
       "168819  action     65927         1.7\n",
       "168823  action    237857         1.7\n",
       "168824  action    881371         1.7\n",
       "168827  action    918609         1.7\n",
       "168829  action    419159         1.7\n",
       "\n",
       "[15277 rows x 3 columns]"
      ]
     },
     "execution_count": 33,
     "metadata": {},
     "output_type": "execute_result"
    }
   ],
   "source": [
    "df4.query('genres==\"action\"')"
   ]
  },
  {
   "cell_type": "code",
   "execution_count": 34,
   "metadata": {},
   "outputs": [],
   "source": [
    "genres_max=df4.groupby([\"genres\"])[\"imdb_score\"].max()"
   ]
  },
  {
   "cell_type": "code",
   "execution_count": 35,
   "metadata": {},
   "outputs": [
    {
     "data": {
      "text/plain": [
       "genres\n",
       "action           9.3\n",
       "animation        9.3\n",
       "comedy           9.2\n",
       "crime            9.5\n",
       "documentation    9.1\n",
       "drama            9.5\n",
       "european         8.9\n",
       "family           9.3\n",
       "fantasy          9.3\n",
       "history          9.1\n",
       "horror           9.0\n",
       "music            8.8\n",
       "reality          8.9\n",
       "romance          9.2\n",
       "scifi            9.3\n",
       "sport            9.1\n",
       "thriller         9.5\n",
       "war              8.8\n",
       "western          8.9\n",
       "Name: imdb_score, dtype: float64"
      ]
     },
     "execution_count": 35,
     "metadata": {},
     "output_type": "execute_result"
    }
   ],
   "source": [
    "genres_max"
   ]
  },
  {
   "cell_type": "code",
   "execution_count": 36,
   "metadata": {},
   "outputs": [],
   "source": [
    "df5=pd.merge(genres_max,df4,on=[\"genres\",\"imdb_score\"])"
   ]
  },
  {
   "cell_type": "code",
   "execution_count": 37,
   "metadata": {},
   "outputs": [
    {
     "name": "stdout",
     "output_type": "stream",
     "text": [
      "<class 'pandas.core.frame.DataFrame'>\n",
      "RangeIndex: 136 entries, 0 to 135\n",
      "Data columns (total 3 columns):\n",
      " #   Column      Non-Null Count  Dtype  \n",
      "---  ------      --------------  -----  \n",
      " 0   genres      136 non-null    object \n",
      " 1   imdb_score  136 non-null    float64\n",
      " 2   person_id   136 non-null    object \n",
      "dtypes: float64(1), object(2)\n",
      "memory usage: 3.3+ KB\n"
     ]
    }
   ],
   "source": [
    "df5.info()"
   ]
  },
  {
   "cell_type": "code",
   "execution_count": 38,
   "metadata": {},
   "outputs": [
    {
     "data": {
      "text/html": [
       "<div>\n",
       "<style scoped>\n",
       "    .dataframe tbody tr th:only-of-type {\n",
       "        vertical-align: middle;\n",
       "    }\n",
       "\n",
       "    .dataframe tbody tr th {\n",
       "        vertical-align: top;\n",
       "    }\n",
       "\n",
       "    .dataframe thead th {\n",
       "        text-align: right;\n",
       "    }\n",
       "</style>\n",
       "<table border=\"1\" class=\"dataframe\">\n",
       "  <thead>\n",
       "    <tr style=\"text-align: right;\">\n",
       "      <th></th>\n",
       "      <th>genres</th>\n",
       "      <th>imdb_score</th>\n",
       "      <th>person_id</th>\n",
       "    </tr>\n",
       "  </thead>\n",
       "  <tbody>\n",
       "    <tr>\n",
       "      <th>0</th>\n",
       "      <td>action</td>\n",
       "      <td>9.3</td>\n",
       "      <td>12790</td>\n",
       "    </tr>\n",
       "    <tr>\n",
       "      <th>1</th>\n",
       "      <td>action</td>\n",
       "      <td>9.3</td>\n",
       "      <td>1303</td>\n",
       "    </tr>\n",
       "    <tr>\n",
       "      <th>2</th>\n",
       "      <td>action</td>\n",
       "      <td>9.3</td>\n",
       "      <td>21033</td>\n",
       "    </tr>\n",
       "    <tr>\n",
       "      <th>3</th>\n",
       "      <td>action</td>\n",
       "      <td>9.3</td>\n",
       "      <td>336830</td>\n",
       "    </tr>\n",
       "    <tr>\n",
       "      <th>4</th>\n",
       "      <td>action</td>\n",
       "      <td>9.3</td>\n",
       "      <td>86591</td>\n",
       "    </tr>\n",
       "    <tr>\n",
       "      <th>...</th>\n",
       "      <td>...</td>\n",
       "      <td>...</td>\n",
       "      <td>...</td>\n",
       "    </tr>\n",
       "    <tr>\n",
       "      <th>131</th>\n",
       "      <td>war</td>\n",
       "      <td>8.8</td>\n",
       "      <td>47019</td>\n",
       "    </tr>\n",
       "    <tr>\n",
       "      <th>132</th>\n",
       "      <td>western</td>\n",
       "      <td>8.9</td>\n",
       "      <td>28180</td>\n",
       "    </tr>\n",
       "    <tr>\n",
       "      <th>133</th>\n",
       "      <td>western</td>\n",
       "      <td>8.9</td>\n",
       "      <td>93017</td>\n",
       "    </tr>\n",
       "    <tr>\n",
       "      <th>134</th>\n",
       "      <td>western</td>\n",
       "      <td>8.9</td>\n",
       "      <td>28166</td>\n",
       "    </tr>\n",
       "    <tr>\n",
       "      <th>135</th>\n",
       "      <td>western</td>\n",
       "      <td>8.9</td>\n",
       "      <td>22311</td>\n",
       "    </tr>\n",
       "  </tbody>\n",
       "</table>\n",
       "<p>136 rows × 3 columns</p>\n",
       "</div>"
      ],
      "text/plain": [
       "      genres  imdb_score person_id\n",
       "0     action         9.3     12790\n",
       "1     action         9.3      1303\n",
       "2     action         9.3     21033\n",
       "3     action         9.3    336830\n",
       "4     action         9.3     86591\n",
       "..       ...         ...       ...\n",
       "131      war         8.8     47019\n",
       "132  western         8.9     28180\n",
       "133  western         8.9     93017\n",
       "134  western         8.9     28166\n",
       "135  western         8.9     22311\n",
       "\n",
       "[136 rows x 3 columns]"
      ]
     },
     "execution_count": 38,
     "metadata": {},
     "output_type": "execute_result"
    }
   ],
   "source": [
    "df5"
   ]
  },
  {
   "cell_type": "code",
   "execution_count": 40,
   "metadata": {},
   "outputs": [],
   "source": [
    "df5.to_csv(\"E:\\\\A_处理文件\\\\整理后的按类型imdb_score最高的影视作品、演员.csv\",encoding='utf-8-sig')"
   ]
  },
  {
   "cell_type": "code",
   "execution_count": null,
   "metadata": {},
   "outputs": [],
   "source": []
  }
 ],
 "metadata": {
  "kernelspec": {
   "display_name": "Python 3 (ipykernel)",
   "language": "python",
   "name": "python3"
  },
  "language_info": {
   "codemirror_mode": {
    "name": "ipython",
    "version": 3
   },
   "file_extension": ".py",
   "mimetype": "text/x-python",
   "name": "python",
   "nbconvert_exporter": "python",
   "pygments_lexer": "ipython3",
   "version": "3.10.11"
  }
 },
 "nbformat": 4,
 "nbformat_minor": 4
}
